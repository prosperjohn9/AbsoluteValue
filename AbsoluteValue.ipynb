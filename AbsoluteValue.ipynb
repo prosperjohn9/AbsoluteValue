{
  "nbformat": 4,
  "nbformat_minor": 0,
  "metadata": {
    "colab": {
      "provenance": [],
      "authorship_tag": "ABX9TyOE4sP0Hs4M9y+46GmzFEAQ",
      "include_colab_link": true
    },
    "kernelspec": {
      "name": "python3",
      "display_name": "Python 3"
    },
    "language_info": {
      "name": "python"
    }
  },
  "cells": [
    {
      "cell_type": "markdown",
      "metadata": {
        "id": "view-in-github",
        "colab_type": "text"
      },
      "source": [
        "<a href=\"https://colab.research.google.com/github/prosperjohn9/AbsoluteValue/blob/main/AbsoluteValue.ipynb\" target=\"_parent\"><img src=\"https://colab.research.google.com/assets/colab-badge.svg\" alt=\"Open In Colab\"/></a>"
      ]
    },
    {
      "cell_type": "code",
      "execution_count": null,
      "metadata": {
        "colab": {
          "base_uri": "https://localhost:8080/"
        },
        "id": "9vcLTdi2gRjg",
        "outputId": "ec18b8b6-1c44-4556-9dd6-dad1adb767e5"
      },
      "outputs": [
        {
          "output_type": "stream",
          "name": "stdout",
          "text": [
            "Please enter a number: -98\n",
            "The absolute value is: 98\n"
          ]
        }
      ],
      "source": [
        "# Input the number\n",
        "number = int(input(\"Please enter a number: \"))\n",
        "\n",
        "# Update if number is smaller than 0\n",
        "if number < 0:\n",
        "  number *= -1\n",
        "\n",
        "# Display the absolute value\n",
        "print(\"The absolute value is:\", number)"
      ]
    }
  ]
}